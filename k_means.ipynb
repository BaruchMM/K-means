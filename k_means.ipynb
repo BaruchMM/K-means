{
 "cells": [
  {
   "cell_type": "code",
   "execution_count": 1,
   "metadata": {},
   "outputs": [],
   "source": [
    "import numpy as np\n",
    "import random as rn\n",
    "import matplotlib.pyplot as plt\n",
    "import pandas as pn\n",
    "import Clustering"
   ]
  },
  {
   "cell_type": "markdown",
   "metadata": {},
   "source": [
    "# K-Means"
   ]
  },
  {
   "cell_type": "markdown",
   "metadata": {},
   "source": [
    "## Generador de muestras"
   ]
  },
  {
   "cell_type": "markdown",
   "metadata": {},
   "source": [
    "### Condiciones:\n",
    "Definimos el número de clusters que se generarán, el número máximo de iteraciones y el número de muestras o datos que se generarán"
   ]
  },
  {
   "cell_type": "code",
   "execution_count": 2,
   "metadata": {},
   "outputs": [],
   "source": [
    "n_clusters = 3\n",
    "max_iterations = 50\n",
    "n_samples = 400"
   ]
  },
  {
   "cell_type": "markdown",
   "metadata": {},
   "source": [
    "Se definen aleatoriamente los centroides reales de los clusters"
   ]
  },
  {
   "cell_type": "code",
   "execution_count": 3,
   "metadata": {},
   "outputs": [
    {
     "name": "stdout",
     "output_type": "stream",
     "text": [
      "[[-1.8873462462944968, -5.701599205253949, -3.530783828008115], [-9.912407634273903, 8.68593220880786, 9.776295675744695]]\n"
     ]
    }
   ],
   "source": [
    "true_centroid = [[ rn.uniform(-10,10)  for i in range(0, n_clusters)], [rn.uniform(-10,10)  for i in range(0, n_clusters)]]\n",
    "print(true_centroid)"
   ]
  },
  {
   "cell_type": "markdown",
   "metadata": {},
   "source": [
    "Generamos los n datos de acuerdo a la condición 'n_samples'. Estos datos se generan aleatoriamente alrededor de cada centroide."
   ]
  },
  {
   "cell_type": "code",
   "execution_count": 4,
   "metadata": {},
   "outputs": [
    {
     "data": {
      "text/plain": [
       "<matplotlib.collections.PathCollection at 0x1a9cbfc9760>"
      ]
     },
     "execution_count": 4,
     "metadata": {},
     "output_type": "execute_result"
    },
    {
     "data": {
      "image/png": "[encoded data removed]",
      "text/plain": [
       "<Figure size 432x288 with 1 Axes>"
      ]
     },
     "metadata": {
      "needs_background": "light"
     },
     "output_type": "display_data"
    }
   ],
   "source": [
    "ndata = n_samples//n_clusters\n",
    "datax = []\n",
    "datay = []\n",
    "for j in range(n_clusters):  \n",
    "    for i in range(0, ndata):  \n",
    "        datax.append(true_centroid[0][j]+rn.random()*rn.uniform(-10,10) )\n",
    "        datay.append(true_centroid[1][j]+rn.random()*rn.uniform(-10,10) )\n",
    "data = [datax, datay]\n",
    "plt.scatter(data[0][:], data[1][:])\n",
    "plt.scatter(true_centroid[0][:], true_centroid[1][:], c='black', s=200, alpha=0.5)"
   ]
  },
  {
   "cell_type": "markdown",
   "metadata": {},
   "source": [
    "## Algoritmo de K-Means"
   ]
  },
  {
   "cell_type": "markdown",
   "metadata": {},
   "source": [
    "El objetivo es clasificar todos los datos en clusters. Para ello es necesario crear n centroides ubicados aleatoriamente. Posteriormente se debe de obtener un vector para cada dato y centroide, con ello obtenemos la distancia mínima de cada dato y centroide, para guardar ese punto en el cluster con el centroide más cercano. \n",
    "Posteriormente se calcula el centro de cada cluster y se redefine el centroide y el proceso anterior se repite hasta alcanzar las n interaciones máximas."
   ]
  },
  {
   "cell_type": "markdown",
   "metadata": {},
   "source": [
    "En la siguiente función se crea cada cluster vacio y los n centroides ubicados aleatoriamente."
   ]
  },
  {
   "cell_type": "code",
   "execution_count": 5,
   "metadata": {},
   "outputs": [],
   "source": [
    "def create_clusters():\n",
    "    clustersDic = {'cluster'+str(i): [] for i in range(n_clusters)}\n",
    "    centroides = [[rn.uniform(np.min(data[0]),np.max(data[0])), rn.uniform(np.min(data[1]),np.max(data[1]))] for i in range(n_clusters)]\n",
    "    return clustersDic, centroides"
   ]
  },
  {
   "cell_type": "markdown",
   "metadata": {},
   "source": [
    "Definimos una función para calcular la distancia entre dos puntos."
   ]
  },
  {
   "cell_type": "code",
   "execution_count": 6,
   "metadata": {},
   "outputs": [],
   "source": [
    "def distance(point1, point2):\n",
    "    distace = np.sqrt((point1[0]-point2[0])**2+(point1[1]-point2[1])**2)\n",
    "    return distace"
   ]
  },
  {
   "cell_type": "markdown",
   "metadata": {},
   "source": [
    "En la siguiente función se ingresa un cluster no vacío para encontrar el nuevo centroide de su conjunto de datos."
   ]
  },
  {
   "cell_type": "code",
   "execution_count": 7,
   "metadata": {},
   "outputs": [],
   "source": [
    "def findCentroid(clusters):\n",
    "    centroids = []\n",
    "    for points in clusters:\n",
    "        points = np.array(points).T\n",
    "        centroids.append([np.mean(points[0]), np.mean(points[1])])\n",
    "    return centroids\n"
   ]
  },
  {
   "cell_type": "markdown",
   "metadata": {},
   "source": [
    "Para cada iteración, los clusters se redefinen clasificando cada dato de acuerdo a un nuevo centroide."
   ]
  },
  {
   "cell_type": "code",
   "execution_count": 8,
   "metadata": {},
   "outputs": [],
   "source": [
    "def update_cluster(centroids):\n",
    "    clustersDis = [[] for i in range(n_clusters)]\n",
    "    for i in range(len(data[0])):\n",
    "        dis = [distance([data[0][i],data[1][i]], centroids[j]) for j in range(n_clusters)]\n",
    "        minDist = dis.index(np.min(dis))\n",
    "        clustersDis[minDist].append([data[0][i],data[1][i]])\n",
    "        clustersDis = np.array(clustersDis)\n",
    "    centroids = findCentroid(clustersDis)\n",
    "    return clustersDis, centroids"
   ]
  },
  {
   "cell_type": "code",
   "execution_count": 9,
   "metadata": {},
   "outputs": [],
   "source": [
    "color = []\n",
    "for i in range(n_clusters):\n",
    "    color.append('#%06X' % rn.randint(0, 0xFFFFFF))"
   ]
  },
  {
   "cell_type": "markdown",
   "metadata": {},
   "source": [
    "Finalmente se definen los clusters vacios y los centroides aleatorios y se comienza con los procesos iterativos de clasificación de datos y para encontrar el centroide más cercano al real."
   ]
  },
  {
   "cell_type": "code",
   "execution_count": 10,
   "metadata": {},
   "outputs": [
    {
     "name": "stderr",
     "output_type": "stream",
     "text": [
      "C:\\Users\\baruc\\AppData\\Local\\Temp\\ipykernel_364\\4039889107.py:7: VisibleDeprecationWarning: Creating an ndarray from ragged nested sequences (which is a list-or-tuple of lists-or-tuples-or ndarrays with different lengths or shapes) is deprecated. If you meant to do this, you must specify 'dtype=object' when creating the ndarray.\n",
      "  clustersDis = np.array(clustersDis)\n"
     ]
    },
    {
     "data": {
      "image/png": "[encoded data removed]",
      "text/plain": [
       "<Figure size 432x288 with 1 Axes>"
      ]
     },
     "metadata": {
      "needs_background": "light"
     },
     "output_type": "display_data"
    }
   ],
   "source": [
    "clusters, centroids = create_clusters()\n",
    "for i in range(max_iterations):\n",
    "     clusters, centroids = update_cluster(centroids)\n",
    "for j in range(n_clusters):\n",
    "    for point in clusters[j]:\n",
    "        plt.plot(point[0],point[1],'o', color = color[j])\n",
    "    plt.scatter(centroids[j][0], centroids[j][1], c='black', s=200, alpha=0.8)"
   ]
  },
  {
   "cell_type": "code",
   "execution_count": 11,
   "metadata": {},
   "outputs": [
    {
     "name": "stderr",
     "output_type": "stream",
     "text": [
      "d:\\Documentos\\GitHub\\K-means\\Clustering.py:33: VisibleDeprecationWarning: Creating an ndarray from ragged nested sequences (which is a list-or-tuple of lists-or-tuples-or ndarrays with different lengths or shapes) is deprecated. If you meant to do this, you must specify 'dtype=object' when creating the ndarray.\n",
      "  clustersDis = np.array(clustersDis)\n"
     ]
    },
    {
     "ename": "TypeError",
     "evalue": "findCentroid() takes 1 positional argument but 2 were given",
     "output_type": "error",
     "traceback": [
      "\u001b[1;31m---------------------------------------------------------------------------\u001b[0m",
      "\u001b[1;31mTypeError\u001b[0m                                 Traceback (most recent call last)",
      "\u001b[1;32md:\\Documentos\\GitHub\\K-means\\k_means.ipynb Celda 23\u001b[0m in \u001b[0;36m<cell line: 3>\u001b[1;34m()\u001b[0m\n\u001b[0;32m      <a href='vscode-notebook-cell:/d%3A/Documentos/GitHub/K-means/k_means.ipynb#X31sZmlsZQ%3D%3D?line=0'>1</a>\u001b[0m \u001b[39mimport\u001b[39;00m \u001b[39mClustering\u001b[39;00m\n\u001b[0;32m      <a href='vscode-notebook-cell:/d%3A/Documentos/GitHub/K-means/k_means.ipynb#X31sZmlsZQ%3D%3D?line=1'>2</a>\u001b[0m fit \u001b[39m=\u001b[39m Clustering\u001b[39m.\u001b[39mk_means(data,\u001b[39m3\u001b[39m,\u001b[39m50\u001b[39m)\n\u001b[1;32m----> <a href='vscode-notebook-cell:/d%3A/Documentos/GitHub/K-means/k_means.ipynb#X31sZmlsZQ%3D%3D?line=2'>3</a>\u001b[0m fit\u001b[39m.\u001b[39;49mmain()\n",
      "File \u001b[1;32md:\\Documentos\\GitHub\\K-means\\Clustering.py:43\u001b[0m, in \u001b[0;36mk_means.main\u001b[1;34m(self)\u001b[0m\n\u001b[0;32m     41\u001b[0m clusters, centroids \u001b[39m=\u001b[39m \u001b[39mself\u001b[39m\u001b[39m.\u001b[39mcreate_clusters()\n\u001b[0;32m     42\u001b[0m \u001b[39mfor\u001b[39;00m i \u001b[39min\u001b[39;00m \u001b[39mrange\u001b[39m(\u001b[39mself\u001b[39m\u001b[39m.\u001b[39mmax_iterations):\n\u001b[1;32m---> 43\u001b[0m     clusters, centroids \u001b[39m=\u001b[39m \u001b[39mself\u001b[39;49m\u001b[39m.\u001b[39;49mupdate_cluster(centroids)\n\u001b[0;32m     44\u001b[0m \u001b[39mfor\u001b[39;00m j \u001b[39min\u001b[39;00m \u001b[39mrange\u001b[39m(\u001b[39mself\u001b[39m\u001b[39m.\u001b[39mk_clusters):\n\u001b[0;32m     45\u001b[0m     \u001b[39mfor\u001b[39;00m point \u001b[39min\u001b[39;00m clusters[j]:\n",
      "File \u001b[1;32md:\\Documentos\\GitHub\\K-means\\Clustering.py:34\u001b[0m, in \u001b[0;36mk_means.update_cluster\u001b[1;34m(self, centroids)\u001b[0m\n\u001b[0;32m     32\u001b[0m     clustersDis[minDist]\u001b[39m.\u001b[39mappend([\u001b[39mself\u001b[39m\u001b[39m.\u001b[39mdata[\u001b[39m0\u001b[39m][i],\u001b[39mself\u001b[39m\u001b[39m.\u001b[39mdata[\u001b[39m1\u001b[39m][i]])\n\u001b[0;32m     33\u001b[0m     clustersDis \u001b[39m=\u001b[39m np\u001b[39m.\u001b[39marray(clustersDis)\n\u001b[1;32m---> 34\u001b[0m centroids \u001b[39m=\u001b[39m \u001b[39mself\u001b[39;49m\u001b[39m.\u001b[39;49mfindCentroid(clustersDis)\n\u001b[0;32m     35\u001b[0m \u001b[39mreturn\u001b[39;00m clustersDis, centroids\n",
      "\u001b[1;31mTypeError\u001b[0m: findCentroid() takes 1 positional argument but 2 were given"
     ]
    }
   ],
   "source": [
    "import Clustering\n",
    "fit = Clustering.k_means(data,3,50)\n",
    "fit.main()"
   ]
  }
 ],
 "metadata": {
  "kernelspec": {
   "display_name": "Python 3 (ipykernel)",
   "language": "python",
   "name": "python3"
  },
  "language_info": {
   "codemirror_mode": {
    "name": "ipython",
    "version": 3
   },
   "file_extension": ".py",
   "mimetype": "text/x-python",
   "name": "python",
   "nbconvert_exporter": "python",
   "pygments_lexer": "ipython3",
   "version": "3.9.12"
  },
  "vscode": {
   "interpreter": {
    "hash": "3a95b72ad26caed2f125c20bb8f543b875a0d1a71c369d3d6c01c0c3af4e63b9"
   }
  }
 },
 "nbformat": 4,
 "nbformat_minor": 2
}
