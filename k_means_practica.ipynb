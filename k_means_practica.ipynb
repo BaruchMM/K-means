{
 "cells": [
  {
   "cell_type": "code",
   "execution_count": 12,
   "metadata": {},
   "outputs": [],
   "source": [
    "import numpy as np\n",
    "import random as rn\n",
    "import matplotlib.pyplot as plt\n",
    "import pandas as pn"
   ]
  },
  {
   "cell_type": "code",
   "execution_count": 2,
   "metadata": {},
   "outputs": [],
   "source": [
    "n_clusters = 2\n",
    "max_iterations = 50\n",
    "n_samples = 160"
   ]
  },
  {
   "cell_type": "code",
   "execution_count": 3,
   "metadata": {},
   "outputs": [],
   "source": [
    "true_centroid = [[ rn.uniform(-10,10)  for i in range(0, n_clusters)], [rn.uniform(-10,10)  for i in range(0, n_clusters)]]"
   ]
  },
  {
   "cell_type": "code",
   "execution_count": 4,
   "metadata": {},
   "outputs": [
    {
     "data": {
      "text/plain": [
       "[[-2.5372645535919824, -6.079157057819174],\n",
       " [4.229855239117427, 0.3124859717209496]]"
      ]
     },
     "execution_count": 4,
     "metadata": {},
     "output_type": "execute_result"
    }
   ],
   "source": [
    "true_centroid"
   ]
  },
  {
   "cell_type": "code",
   "execution_count": 11,
   "metadata": {},
   "outputs": [
    {
     "data": {
      "text/plain": [
       "<matplotlib.collections.PathCollection at 0x7ff466b04970>"
      ]
     },
     "execution_count": 11,
     "metadata": {},
     "output_type": "execute_result"
    },
    {
     "data": {
      "image/png": "[encoded data removed]",
      "text/plain": [
       "<Figure size 432x288 with 1 Axes>"
      ]
     },
     "metadata": {
      "needs_background": "light"
     },
     "output_type": "display_data"
    }
   ],
   "source": [
    "\n",
    "ndata = int(n_samples/n_clusters)\n",
    "datax = []\n",
    "datay = []\n",
    "for j in range(n_clusters):  \n",
    "    for i in range(0, ndata):  \n",
    "        datax.append(true_centroid[0][j]+rn.random()*rn.uniform(-2.5,2.5) )\n",
    "        datay.append(true_centroid[1][j]+rn.random()*rn.uniform(-2.5,2.5) )\n",
    "data = [datax, datay]\n",
    "plt.scatter(data[0][:], data[1][:])\n",
    "plt.scatter(true_centroid[0][:], true_centroid[1][:], c='black', s=200, alpha=0.5)"
   ]
  },
  {
   "cell_type": "code",
   "execution_count": 132,
   "metadata": {},
   "outputs": [
    {
     "data": {
      "text/plain": [
       "{'cluster0': 1, 'cluster1': {}}"
      ]
     },
     "execution_count": 132,
     "metadata": {},
     "output_type": "execute_result"
    }
   ],
   "source": [
    "clusters = {'cluster'+str(i):{} for i in range(n_clusters)}\n",
    "clusters['cluster0'] = 1\n",
    "clusters"
   ]
  },
  {
   "cell_type": "code",
   "execution_count": 71,
   "metadata": {},
   "outputs": [
    {
     "data": {
      "text/plain": [
       "['cluster0', 'cluster1']"
      ]
     },
     "execution_count": 71,
     "metadata": {},
     "output_type": "execute_result"
    }
   ],
   "source": [
    "list(clusters.keys())\n"
   ]
  },
  {
   "cell_type": "markdown",
   "metadata": {},
   "source": [
    "### Mi codigo"
   ]
  },
  {
   "cell_type": "code",
   "execution_count": 135,
   "metadata": {},
   "outputs": [],
   "source": [
    "def create_clusters():\n",
    "    clustersDic = {'cluster'+str(i): [] for i in range(n_clusters)}\n",
    "    b = False\n",
    "    i = 0\n",
    "    while (b == False):\n",
    "        choice = rn.choice(list(clustersDic.keys()))\n",
    "        if (choice in clustersDic.keys()) == True and len(clustersDic[choice]) < (n_samples/n_clusters): \n",
    "            clustersDic[choice].append([data[0][i],data[1][i]])\n",
    "            if i == n_samples-1: b = True\n",
    "            i = i+ 1\n",
    "        \n",
    "    clusters = pn.DataFrame(clustersDic)\n",
    "    return clustersDic     "
   ]
  },
  {
   "cell_type": "code",
   "execution_count": 141,
   "metadata": {},
   "outputs": [
    {
     "data": {
      "image/png": "[encoded data removed]",
      "text/plain": [
       "<Figure size 432x288 with 1 Axes>"
      ]
     },
     "metadata": {
      "needs_background": "light"
     },
     "output_type": "display_data"
    }
   ],
   "source": [
    "clusters = create_clusters()\n",
    "for point in clusters['cluster0']:\n",
    "    plt.plot(point[0],point[1],'o',color = 'blue')\n",
    "for point in clusters['cluster1']:\n",
    "    plt.plot(point[0],point[1],'o',color = 'red')"
   ]
  },
  {
   "cell_type": "code",
   "execution_count": 116,
   "metadata": {},
   "outputs": [
    {
     "data": {
      "text/plain": [
       "80"
      ]
     },
     "execution_count": 116,
     "metadata": {},
     "output_type": "execute_result"
    }
   ],
   "source": [
    "def centroide():\n",
    "    centroide1 = sum(clusters['clusters0'])\n",
    "def find_close_cluster(point):\n",
    "    for cluster in clusters:"
   ]
  },
  {
   "cell_type": "markdown",
   "metadata": {},
   "source": [
    "### Pseudocodigo 1"
   ]
  },
  {
   "cell_type": "code",
   "execution_count": null,
   "metadata": {},
   "outputs": [
    {
     "data": {
      "text/plain": [
       "[[1.14505812170436, -0.9453566087217793, -0.10078900668084452],\n",
       " [6.25769216998484, -2.501929800089469, 4.7260262506846615]]"
      ]
     },
     "execution_count": 203,
     "metadata": {},
     "output_type": "execute_result"
    }
   ],
   "source": [
    "mux = []\n",
    "muy = []\n",
    "for i in range(n_clusters):\n",
    "    mux.append(rn.random()*rn.uniform(-10,10) )\n",
    "    muy.append(rn.random()*rn.uniform(-10,10) )\n",
    "mu = [mux, muy]\n",
    "mu\n"
   ]
  },
  {
   "cell_type": "code",
   "execution_count": null,
   "metadata": {},
   "outputs": [],
   "source": [
    "k = np.ones(n_clusters)\n",
    "r = np.zeros((n_samples,n_clusters))\n",
    "for j in range(max_iterations):\n",
    "    # definimos los vectores entre cada punto\n",
    "    for i in range(len(data[0])):\n",
    "        for cluster in range(n_clusters):\n",
    "            vec = np.sqrt(data[0][i]**2 + data[1][i]**2)\n",
    "            muVec = np.sqrt(mu[0][cluster]**2 + mu[1][cluster]**2)\n",
    "            k = np.sqrt(true_centroid[0][cluster]**2+true_centroid[1][cluster]**2)\n",
    "            if k >= np.min(np.abs(vec-muVec)):\n",
    "                r[i][cluster] = 1\n",
    "    for cluster in range(n_clusters):\n",
    "        suma11, suma12, suma21, suma22 = 0, 0, 0, 0\n",
    "        for i in range(len(data[0])):\n",
    "            suma11 += (r[i][cluster]*data[0][i])\n",
    "            suma12 += (r[i][cluster])\n",
    "            suma21 += (r[i][cluster]*data[1][i])\n",
    "            suma22 += (r[i][cluster])\n",
    "        mu[0][cluster] = suma11/suma12\n",
    "        mu[1][cluster] = suma21/suma22"
   ]
  },
  {
   "cell_type": "code",
   "execution_count": null,
   "metadata": {},
   "outputs": [
    {
     "data": {
      "text/plain": [
       "[[-3.19906536630232, -0.7898162944054988, -0.47612233828735884],\n",
       " [0.7469419232189899, -0.7934366070104272, -0.9259272579413395]]"
      ]
     },
     "execution_count": 201,
     "metadata": {},
     "output_type": "execute_result"
    }
   ],
   "source": [
    "mu"
   ]
  },
  {
   "cell_type": "code",
   "execution_count": null,
   "metadata": {},
   "outputs": [
    {
     "data": {
      "text/plain": [
       "<matplotlib.collections.PathCollection at 0x7f475c999c10>"
      ]
     },
     "execution_count": 209,
     "metadata": {},
     "output_type": "execute_result"
    },
    {
     "data": {
      "image/png": "[encoded data removed]",
      "text/plain": [
       "<Figure size 432x288 with 1 Axes>"
      ]
     },
     "metadata": {
      "needs_background": "light"
     },
     "output_type": "display_data"
    }
   ],
   "source": [
    "plt.scatter(true_centroid[0][:], true_centroid[1][:], s=200, alpha=0.5)\n",
    "plt.scatter(mu[0][:],mu[1][:])"
   ]
  }
 ],
 "metadata": {
  "kernelspec": {
   "display_name": "Python 3.9.5 ('base')",
   "language": "python",
   "name": "python3"
  },
  "language_info": {
   "codemirror_mode": {
    "name": "ipython",
    "version": 3
   },
   "file_extension": ".py",
   "mimetype": "text/x-python",
   "name": "python",
   "nbconvert_exporter": "python",
   "pygments_lexer": "ipython3",
   "version": "3.9.5"
  },
  "orig_nbformat": 4,
  "vscode": {
   "interpreter": {
    "hash": "32b357d26b804e04b04f5e6d7fc1dc3b777fa57112b84813823b47a8c846d539"
   }
  }
 },
 "nbformat": 4,
 "nbformat_minor": 2
}
