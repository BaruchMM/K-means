{
 "cells": [
  {
   "cell_type": "code",
   "execution_count": 1,
   "metadata": {},
   "outputs": [],
   "source": [
    "import numpy as np\n",
    "import random as rn\n",
    "import matplotlib.pyplot as plt\n",
    "import pandas as pn"
   ]
  },
  {
   "cell_type": "code",
   "execution_count": 2,
   "metadata": {},
   "outputs": [],
   "source": [
    "n_clusters = 2\n",
    "max_iterations = 50\n",
    "n_samples = 160"
   ]
  },
  {
   "cell_type": "code",
   "execution_count": 3,
   "metadata": {},
   "outputs": [],
   "source": [
    "true_centroid = [[ rn.uniform(-10,10)  for i in range(0, n_clusters)], [rn.uniform(-10,10)  for i in range(0, n_clusters)]]"
   ]
  },
  {
   "cell_type": "code",
   "execution_count": 4,
   "metadata": {},
   "outputs": [
    {
     "data": {
      "text/plain": [
       "[[4.924659489578836, -6.788032901127226],\n",
       " [8.818519835919421, 1.428160432510401]]"
      ]
     },
     "execution_count": 4,
     "metadata": {},
     "output_type": "execute_result"
    }
   ],
   "source": [
    "true_centroid"
   ]
  },
  {
   "cell_type": "code",
   "execution_count": 5,
   "metadata": {},
   "outputs": [
    {
     "data": {
      "text/plain": [
       "<matplotlib.collections.PathCollection at 0x2131f926f40>"
      ]
     },
     "execution_count": 5,
     "metadata": {},
     "output_type": "execute_result"
    },
    {
     "data": {
      "image/png": "[encoded data removed]",
      "text/plain": [
       "<Figure size 432x288 with 1 Axes>"
      ]
     },
     "metadata": {
      "needs_background": "light"
     },
     "output_type": "display_data"
    }
   ],
   "source": [
    "\n",
    "ndata = int(n_samples/n_clusters)\n",
    "datax = []\n",
    "datay = []\n",
    "for j in range(n_clusters):  \n",
    "    for i in range(0, ndata):  \n",
    "        datax.append(true_centroid[0][j]+rn.random()*rn.uniform(-2.5,2.5) )\n",
    "        datay.append(true_centroid[1][j]+rn.random()*rn.uniform(-2.5,2.5) )\n",
    "data = [datax, datay]\n",
    "plt.scatter(data[0][:], data[1][:])\n",
    "plt.scatter(true_centroid[0][:], true_centroid[1][:], c='black', s=200, alpha=0.5)"
   ]
  },
  {
   "cell_type": "code",
   "execution_count": 23,
   "metadata": {},
   "outputs": [
    {
     "data": {
      "text/plain": [
       "[[6.353379982307377, 0.797784826233626],\n",
       " [-1.165485369533931, 7.847495368899235]]"
      ]
     },
     "execution_count": 23,
     "metadata": {},
     "output_type": "execute_result"
    }
   ],
   "source": [
    "centroides = [[rn.uniform(np.min(data[0]),np.max(data[0])),rn.uniform(np.min(data[1]),np.max(data[1]))] for i in range(n_clusters)]\n",
    "centroides"
   ]
  },
  {
   "cell_type": "code",
   "execution_count": 24,
   "metadata": {},
   "outputs": [
    {
     "data": {
      "text/plain": [
       "{'cluster0': [], 'cluster1': []}"
      ]
     },
     "execution_count": 24,
     "metadata": {},
     "output_type": "execute_result"
    }
   ],
   "source": [
    "clustersDic = {'s'+str(i): 1 for i in range(n_clusters)}\n",
    "clustersDic = {'cluster'+str(i): [] for i in range(n_clusters)}\n",
    "clustersDic"
   ]
  },
  {
   "cell_type": "markdown",
   "metadata": {},
   "source": [
    "### Mi codigo"
   ]
  },
  {
   "cell_type": "code",
   "execution_count": 126,
   "metadata": {},
   "outputs": [],
   "source": [
    "def create_clusters():\n",
    "    clustersDic = {'cluster'+str(i): [] for i in range(n_clusters)}\n",
    "    centroides = [[rn.uniform(np.min(data[0]),np.max(data[0])), rn.uniform(np.min(data[1]),np.max(data[1]))] for i in range(n_clusters)]\n",
    "    return clustersDic, centroides"
   ]
  },
  {
   "cell_type": "code",
   "execution_count": 128,
   "metadata": {},
   "outputs": [
    {
     "data": {
      "text/plain": [
       "[[1.9818238107772554, 10.329153159714915],\n",
       " [-8.050934346243416, 3.61294917959025]]"
      ]
     },
     "execution_count": 128,
     "metadata": {},
     "output_type": "execute_result"
    }
   ],
   "source": [
    "clusters, centroids = create_clusters()\n",
    "centroids"
   ]
  },
  {
   "cell_type": "code",
   "execution_count": 40,
   "metadata": {},
   "outputs": [],
   "source": [
    "def distance(point1, point2):\n",
    "    distace = np.sqrt((point1[0]-point2[0])**2+(point1[1]-point2[1])**2)\n",
    "    return distace"
   ]
  },
  {
   "cell_type": "code",
   "execution_count": 118,
   "metadata": {},
   "outputs": [],
   "source": [
    "def findCentroid(clusters):\n",
    "    centroids = []\n",
    "    for points in clusters:\n",
    "        points = np.array(points).T\n",
    "        centroids.append([np.sum(points[0])/len(points[0]), np.sum(points[0])/len(points[0])])\n",
    "        # centroids.append(len(points[0]))\n",
    "    return centroids\n"
   ]
  },
  {
   "cell_type": "code",
   "execution_count": 131,
   "metadata": {},
   "outputs": [],
   "source": [
    "def update_cluster(centroids):\n",
    "    clustersDis = [[] for i in range(n_clusters)]\n",
    "    for i in range(len(data[0])):\n",
    "        dis = [distance([data[0][i],data[1][i]], centroids[j]) for j in range(n_clusters)]\n",
    "        minDist = dis.index(np.min(dis))\n",
    "        clustersDis[minDist].append([data[0][i],data[1][i]])\n",
    "        clustersDis = np.array(clustersDis)\n",
    "    centroids = findCentroid(clustersDis)\n",
    "    return clustersDis, centroids"
   ]
  },
  {
   "cell_type": "code",
   "execution_count": 135,
   "metadata": {},
   "outputs": [
    {
     "name": "stderr",
     "output_type": "stream",
     "text": [
      "C:\\Users\\baruc\\AppData\\Local\\Temp\\ipykernel_3580\\4039889107.py:7: VisibleDeprecationWarning: Creating an ndarray from ragged nested sequences (which is a list-or-tuple of lists-or-tuples-or ndarrays with different lengths or shapes) is deprecated. If you meant to do this, you must specify 'dtype=object' when creating the ndarray.\n",
      "  clustersDis = np.array(clustersDis)\n"
     ]
    },
    {
     "data": {
      "text/plain": [
       "<matplotlib.collections.PathCollection at 0x2132759b310>"
      ]
     },
     "execution_count": 135,
     "metadata": {},
     "output_type": "execute_result"
    },
    {
     "data": {
      "image/png": "[encoded data removed]",
      "text/plain": [
       "<Figure size 432x288 with 1 Axes>"
      ]
     },
     "metadata": {
      "needs_background": "light"
     },
     "output_type": "display_data"
    }
   ],
   "source": [
    "for i in range(max_iterations):\n",
    "    clusters, centroids = update_cluster(centroids)\n",
    "for point in clusters[0]:\n",
    "    plt.plot(point[0],point[1],'o',color = 'blue')\n",
    "for point in clusters[1]:\n",
    "    plt.plot(point[0],point[1],'o',color = 'red')\n",
    "plt.scatter(centroids[0][0], centroids[0][1], c='black', s=200, alpha=0.5)\n",
    "plt.scatter(centroids[1][0], centroids[1][1], c='black', s=200, alpha=0.5)"
   ]
  },
  {
   "cell_type": "code",
   "execution_count": 101,
   "metadata": {},
   "outputs": [
    {
     "data": {
      "text/plain": [
       "6.311816052182424"
      ]
     },
     "execution_count": 101,
     "metadata": {},
     "output_type": "execute_result"
    }
   ],
   "source": [
    "np.array(clusterss[1]).T[0][0]"
   ]
  },
  {
   "cell_type": "code",
   "execution_count": 116,
   "metadata": {},
   "outputs": [
    {
     "data": {
      "text/plain": [
       "80"
      ]
     },
     "execution_count": 116,
     "metadata": {},
     "output_type": "execute_result"
    }
   ],
   "source": [
    "\n",
    "def find_close_cluster(point):\n",
    "    for cluster in clusters:"
   ]
  },
  {
   "cell_type": "markdown",
   "metadata": {},
   "source": [
    "### Pseudocodigo 1"
   ]
  },
  {
   "cell_type": "code",
   "execution_count": null,
   "metadata": {},
   "outputs": [
    {
     "data": {
      "text/plain": [
       "[[1.14505812170436, -0.9453566087217793, -0.10078900668084452],\n",
       " [6.25769216998484, -2.501929800089469, 4.7260262506846615]]"
      ]
     },
     "execution_count": 203,
     "metadata": {},
     "output_type": "execute_result"
    }
   ],
   "source": [
    "mux = []\n",
    "muy = []\n",
    "for i in range(n_clusters):\n",
    "    mux.append(rn.random()*rn.uniform(-10,10) )\n",
    "    muy.append(rn.random()*rn.uniform(-10,10) )\n",
    "mu = [mux, muy]\n",
    "mu\n"
   ]
  },
  {
   "cell_type": "code",
   "execution_count": null,
   "metadata": {},
   "outputs": [],
   "source": [
    "k = np.ones(n_clusters)\n",
    "r = np.zeros((n_samples,n_clusters))\n",
    "for j in range(max_iterations):\n",
    "    # definimos los vectores entre cada punto\n",
    "    for i in range(len(data[0])):\n",
    "        for cluster in range(n_clusters):\n",
    "            vec = np.sqrt(data[0][i]**2 + data[1][i]**2)\n",
    "            muVec = np.sqrt(mu[0][cluster]**2 + mu[1][cluster]**2)\n",
    "            k = np.sqrt(true_centroid[0][cluster]**2+true_centroid[1][cluster]**2)\n",
    "            if k >= np.min(np.abs(vec-muVec)):\n",
    "                r[i][cluster] = 1\n",
    "    for cluster in range(n_clusters):\n",
    "        suma11, suma12, suma21, suma22 = 0, 0, 0, 0\n",
    "        for i in range(len(data[0])):\n",
    "            suma11 += (r[i][cluster]*data[0][i])\n",
    "            suma12 += (r[i][cluster])\n",
    "            suma21 += (r[i][cluster]*data[1][i])\n",
    "            suma22 += (r[i][cluster])\n",
    "        mu[0][cluster] = suma11/suma12\n",
    "        mu[1][cluster] = suma21/suma22"
   ]
  },
  {
   "cell_type": "code",
   "execution_count": null,
   "metadata": {},
   "outputs": [
    {
     "data": {
      "text/plain": [
       "[[-3.19906536630232, -0.7898162944054988, -0.47612233828735884],\n",
       " [0.7469419232189899, -0.7934366070104272, -0.9259272579413395]]"
      ]
     },
     "execution_count": 201,
     "metadata": {},
     "output_type": "execute_result"
    }
   ],
   "source": [
    "mu"
   ]
  },
  {
   "cell_type": "code",
   "execution_count": null,
   "metadata": {},
   "outputs": [
    {
     "data": {
      "text/plain": [
       "<matplotlib.collections.PathCollection at 0x7f475c999c10>"
      ]
     },
     "execution_count": 209,
     "metadata": {},
     "output_type": "execute_result"
    },
    {
     "data": {
      "image/png": "[encoded data removed]",
      "text/plain": [
       "<Figure size 432x288 with 1 Axes>"
      ]
     },
     "metadata": {
      "needs_background": "light"
     },
     "output_type": "display_data"
    }
   ],
   "source": [
    "plt.scatter(true_centroid[0][:], true_centroid[1][:], s=200, alpha=0.5)\n",
    "plt.scatter(mu[0][:],mu[1][:])"
   ]
  }
 ],
 "metadata": {
  "kernelspec": {
   "display_name": "Python 3.9.12 ('base')",
   "language": "python",
   "name": "python3"
  },
  "language_info": {
   "codemirror_mode": {
    "name": "ipython",
    "version": 3
   },
   "file_extension": ".py",
   "mimetype": "text/x-python",
   "name": "python",
   "nbconvert_exporter": "python",
   "pygments_lexer": "ipython3",
   "version": "3.9.12"
  },
  "orig_nbformat": 4,
  "vscode": {
   "interpreter": {
    "hash": "3a95b72ad26caed2f125c20bb8f543b875a0d1a71c369d3d6c01c0c3af4e63b9"
   }
  }
 },
 "nbformat": 4,
 "nbformat_minor": 2
}
